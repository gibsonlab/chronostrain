{
 "nbformat": 4,
 "nbformat_minor": 0,
 "metadata": {
  "colab": {
   "provenance": []
  },
  "kernelspec": {
   "name": "python3",
   "display_name": "Python 3"
  },
  "language_info": {
   "name": "python"
  },
  "accelerator": "GPU",
  "gpuClass": "standard"
 },
 "cells": [
  {
   "cell_type": "markdown",
   "source": [
    "# Install the package."
   ],
   "metadata": {
    "id": "zSobWNLTo-0m"
   }
  },
  {
   "cell_type": "code",
   "execution_count": null,
   "metadata": {
    "id": "-lEmmvc7blyc"
   },
   "outputs": [],
   "source": [
    "!git clone https://github.com/gibsonlab/chronostrain\n",
    "%pip install chronostrain/.\n",
    "\n",
    "# Colab-specific installation commands\n",
    "%pip install click==8.1.3 --force-reinstall\n",
    "!sudo apt -y install bwa"
   ]
  },
  {
   "cell_type": "markdown",
   "source": [
    "# Set up the test environment."
   ],
   "metadata": {
    "collapsed": false,
    "id": "0wsKxdid81OT"
   }
  },
  {
   "cell_type": "code",
   "execution_count": null,
   "outputs": [],
   "source": [
    "%cp -r chronostrain/examples/colab_demo/configs ./configs\n",
    "!unzip chronostrain/examples/colab_demo/inputs.zip -d ./inputs"
   ],
   "metadata": {
    "id": "jzQgNVTt81OU"
   }
  },
  {
   "cell_type": "markdown",
   "source": [
    "# Example usage"
   ],
   "metadata": {
    "id": "b9SUYA9OpCnL"
   }
  },
  {
   "cell_type": "code",
   "source": [
    "!chronostrain -h"
   ],
   "metadata": {
    "id": "jDfR0UP2796v"
   },
   "execution_count": null,
   "outputs": []
  },
  {
   "cell_type": "markdown",
   "source": [
    "Use the -c option to pass in a configuration file, along with a command."
   ],
   "metadata": {
    "id": "QrDJ8QJOpFV0"
   }
  },
  {
   "cell_type": "code",
   "source": [
    "%env CHRONOSTRAIN_INI=configs/chronostrain.ini\n",
    "%env ENTREZ_EMAIL=\n",
    "%env CHRONOSTRAIN_LOG_INI=chronostrain/examples/example_configs/log_config.ini\n",
    "\n",
    "!chronostrain filter -r ./inputs/test_reads.csv -o ./output/filtered --aligner bwa"
   ],
   "metadata": {
    "id": "NRMKiP-F8GT4"
   },
   "execution_count": null,
   "outputs": []
  },
  {
   "cell_type": "code",
   "source": [
    "!chronostrain advi -r output/filtered/filtered_test_reads.csv -o output/inference"
   ],
   "metadata": {
    "id": "MOhsWu7Qw0JF"
   },
   "execution_count": null,
   "outputs": []
  }
 ]
}
