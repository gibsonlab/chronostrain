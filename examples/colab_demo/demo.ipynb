{
 "cells": [
  {
   "cell_type": "markdown",
   "metadata": {
    "id": "zSobWNLTo-0m"
   },
   "source": [
    "# BEFORE YOU START\n",
    "\n",
    "## Step 1: Try starting a GPU-enabled session. (`Runtime > Change runtime type > Dropdown \"GPU\"`)"
   ]
  },
  {
   "cell_type": "markdown",
   "metadata": {
    "collapsed": false,
    "jupyter": {
     "outputs_hidden": false
    }
   },
   "source": [
    "## Step 2: Fill in your email address, e.g. `_email = \"xyz@myaddress.edu\"` (to be used for Entrez API).\n",
    "\n",
    "This notebook points to a database file (`example.json`), but this JSON-formatted database file does not contain the nucleotide sequences for strain markers.\n",
    "The software will attempt to download the full genome from NCBI to obtain these, for which you should specify your credentials.\n",
    "\n",
    "Note: We do not store or track anything using your e-mail address. It is to be specified for <a href=\"https://www.ncbi.nlm.nih.gov/books/NBK25501/\">NCBI's Entrez API</a>; see <a href=\"https://www.ncbi.nlm.nih.gov/books/NBK25497/#chapter2.Usage_Guidelines_and_Requiremen\">Usage guidelines and requirements</a>.\n",
    "\n",
    "To see how/where this field gets used, refer to the <a href=\"https://github.com/gibsonlab/chronostrain/blob/f6574db05ab7b5880e11d6ffbe653b7bd991a3a4/chronostrain/util/entrez.py#L17\">source code</a>."
   ]
  },
  {
   "cell_type": "code",
   "execution_count": null,
   "metadata": {
    "id": "-lEmmvc7blyc",
    "is_executing": true
   },
   "outputs": [],
   "source": [
    "# Specify your e-mail for NCBI's API.\n",
    "_email = \"\""
   ]
  },
  {
   "cell_type": "markdown",
   "metadata": {
    "collapsed": false,
    "jupyter": {
     "outputs_hidden": false
    }
   },
   "source": [
    "# Install the package."
   ]
  },
  {
   "cell_type": "code",
   "execution_count": null,
   "metadata": {
    "collapsed": false,
    "jupyter": {
     "outputs_hidden": false
    }
   },
   "outputs": [],
   "source": [
    "# ========================== Do not modify below. =======================\n",
    "!apt install bwa\n",
    "!git clone https://github.com/gibsonlab/chronostrain\n",
    "%pip install -e chronostrain/."
   ]
  },
  {
   "cell_type": "markdown",
   "metadata": {
    "collapsed": false,
    "id": "MMRpfw3W9ToC",
    "jupyter": {
     "outputs_hidden": false
    }
   },
   "source": [
    "# Set up the test environment."
   ]
  },
  {
   "cell_type": "code",
   "execution_count": null,
   "metadata": {},
   "outputs": [],
   "source": [
    "!pwd"
   ]
  },
  {
   "cell_type": "code",
   "execution_count": null,
   "metadata": {
    "id": "1jcuMRQH9ToD"
   },
   "outputs": [],
   "source": [
    "%cp -r chronostrain/examples/colab_demo/configs ./configs\n",
    "!unzip chronostrain/examples/colab_demo/inputs.zip -d ./"
   ]
  },
  {
   "cell_type": "markdown",
   "metadata": {
    "id": "b9SUYA9OpCnL"
   },
   "source": [
    "# Example usage\n",
    "\n",
    "Display the help text for chronostrain and exit."
   ]
  },
  {
   "cell_type": "code",
   "execution_count": null,
   "metadata": {
    "id": "jDfR0UP2796v"
   },
   "outputs": [],
   "source": [
    "!chronostrain -h"
   ]
  },
  {
   "cell_type": "markdown",
   "metadata": {
    "id": "QrDJ8QJOpFV0"
   },
   "source": [
    "# Running chronostrain:\n",
    "\n",
    "Use the CHRONOSTRAIN_INI environment variable (or the -c option) to pass in a configuration file, along with a command."
   ]
  },
  {
   "cell_type": "code",
   "execution_count": null,
   "metadata": {
    "id": "NRMKiP-F8GT4"
   },
   "outputs": [],
   "source": [
    "%env CHRONOSTRAIN_INI=configs/chronostrain.ini\n",
    "%env ENTREZ_EMAIL=$_email\n",
    "%env CHRONOSTRAIN_LOG_INI=chronostrain/examples/example_configs/log_config.ini\n",
    "\n",
    "!chronostrain filter -r ./inputs/test_reads.csv -o ./output/filtered --aligner bwa"
   ]
  },
  {
   "cell_type": "code",
   "execution_count": null,
   "metadata": {
    "id": "MOhsWu7Qw0JF"
   },
   "outputs": [],
   "source": [
    "!chronostrain advi -r output/filtered/filtered_test_reads.csv -o output/inference"
   ]
  }
 ],
 "metadata": {
  "accelerator": "GPU",
  "colab": {
   "provenance": []
  },
  "gpuClass": "standard",
  "kernelspec": {
   "display_name": "chronostrain",
   "language": "python",
   "name": "chronostrain"
  },
  "language_info": {
   "codemirror_mode": {
    "name": "ipython",
    "version": 3
   },
   "file_extension": ".py",
   "mimetype": "text/x-python",
   "name": "python",
   "nbconvert_exporter": "python",
   "pygments_lexer": "ipython3",
   "version": "3.10.13"
  }
 },
 "nbformat": 4,
 "nbformat_minor": 4
}
