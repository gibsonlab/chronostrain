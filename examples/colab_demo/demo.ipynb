{
 "nbformat": 4,
 "nbformat_minor": 0,
 "metadata": {
  "colab": {
   "provenance": []
  },
  "kernelspec": {
   "name": "python3",
   "display_name": "Python 3"
  },
  "language_info": {
   "name": "python"
  },
  "accelerator": "GPU",
  "gpuClass": "standard"
 },
 "cells": [
  {
   "cell_type": "markdown",
   "source": [
    "# BEFORE YOU START\n",
    "\n",
    "## Step 1: Try starting a GPU-enabled session. (`Runtime > Change runtime type > Dropdown \"GPU\"`)\n",
    "## Step 2: Run the cell below."
   ],
   "metadata": {
    "id": "zSobWNLTo-0m"
   }
  },
  {
   "cell_type": "code",
   "source": [
    "%pip show torch"
   ],
   "metadata": {
    "id": "JziYRZ7xDI8i",
    "pycharm": {
     "is_executing": true
    }
   },
   "execution_count": null,
   "outputs": []
  },
  {
   "cell_type": "markdown",
   "source": [
    "## Step 3: Replace \"_version\" variable with the correct version, printed using the above command. (Explicit versioning is a workaround; google's runtime environment tends to cause `pip install torch-sparse` to hang for an hour.)"
   ],
   "metadata": {
    "id": "v7uBKEsnEdQ1"
   }
  },
  {
   "cell_type": "code",
   "execution_count": null,
   "outputs": [],
   "source": [
    "# Replace this with the correct torch version, shown above.\n",
    "_version = \"1.13.1+cu116\""
   ],
   "metadata": {
    "collapsed": false
   }
  },
  {
   "cell_type": "markdown",
   "source": [
    "## Step 4: Fill in your email address, e.g. `_email = \"test_email@myaddress.edu\"` (to be used for Entrez API).\n",
    "\n",
    "Note: We do not store or track anything using your e-mail address. It is to be specified for <a href=\"https://www.ncbi.nlm.nih.gov/books/NBK25501/\">NCBI's Entrez API</a>; see <a href=\"https://www.ncbi.nlm.nih.gov/books/NBK25497/#chapter2.Usage_Guidelines_and_Requiremen\">Usage guidelines and requirements</a>."
   ],
   "metadata": {
    "collapsed": false
   }
  },
  {
   "cell_type": "code",
   "execution_count": null,
   "metadata": {
    "id": "-lEmmvc7blyc"
   },
   "outputs": [],
   "source": [
    "# Specify your e-mail for NCBI's API.\n",
    "_email = \"\""
   ]
  },
  {
   "cell_type": "markdown",
   "source": [
    "# Install the package."
   ],
   "metadata": {
    "collapsed": false
   }
  },
  {
   "cell_type": "code",
   "execution_count": null,
   "outputs": [],
   "source": [
    "# ========================== Do not modify below. =======================\n",
    "# Colab-specific installation commands\n",
    "_pyg_url = \"https://pytorch-geometric.com/whl/torch-{}.html\".format(_version)\n",
    "%pip install torch-sparse torch-scatter -f $_pyg_url\n",
    "!sudo apt -y install bwa\n",
    "\n",
    "# ========================== Install chronostrain. =======================\n",
    "!git clone https://github.com/gibsonlab/chronostrain\n",
    "%pip install -e chronostrain/."
   ],
   "metadata": {
    "collapsed": false
   }
  },
  {
   "cell_type": "markdown",
   "source": [
    "# Set up the test environment."
   ],
   "metadata": {
    "collapsed": false,
    "id": "MMRpfw3W9ToC"
   }
  },
  {
   "cell_type": "code",
   "execution_count": null,
   "outputs": [],
   "source": [
    "%cp -r chronostrain/examples/colab_demo/configs ./configs\n",
    "!unzip chronostrain/examples/colab_demo/inputs.zip -d ./"
   ],
   "metadata": {
    "id": "1jcuMRQH9ToD"
   }
  },
  {
   "cell_type": "markdown",
   "source": [
    "# Example usage\n",
    "\n",
    "Display the help text for chronostrain and exit."
   ],
   "metadata": {
    "id": "b9SUYA9OpCnL"
   }
  },
  {
   "cell_type": "code",
   "source": [
    "!chronostrain -h"
   ],
   "metadata": {
    "id": "jDfR0UP2796v"
   },
   "execution_count": null,
   "outputs": []
  },
  {
   "cell_type": "markdown",
   "source": [
    "# Running chronostrain:\n",
    "\n",
    "Use the CHRONOSTRAIN_INI environment variable (or the -c option) to pass in a configuration file, along with a command."
   ],
   "metadata": {
    "id": "QrDJ8QJOpFV0"
   }
  },
  {
   "cell_type": "code",
   "source": [
    "%env CHRONOSTRAIN_INI=configs/chronostrain.ini\n",
    "%env ENTREZ_EMAIL=$_email\n",
    "%env CHRONOSTRAIN_LOG_INI=chronostrain/examples/example_configs/log_config.ini\n",
    "\n",
    "!chronostrain filter -r ./inputs/test_reads.csv -o ./output/filtered --aligner bwa"
   ],
   "metadata": {
    "id": "NRMKiP-F8GT4"
   },
   "execution_count": null,
   "outputs": []
  },
  {
   "cell_type": "code",
   "source": [
    "!chronostrain advi -r output/filtered/filtered_test_reads.csv -o output/inference"
   ],
   "metadata": {
    "id": "MOhsWu7Qw0JF"
   },
   "execution_count": null,
   "outputs": []
  }
 ]
}
